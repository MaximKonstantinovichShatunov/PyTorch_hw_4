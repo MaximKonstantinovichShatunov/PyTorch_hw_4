{
 "cells": [
  {
   "cell_type": "markdown",
   "metadata": {},
   "source": [
    "### Практическое задание к уроку 4 по теме \"CNN Свертки\"."
   ]
  },
  {
   "cell_type": "code",
   "execution_count": 35,
   "metadata": {},
   "outputs": [],
   "source": [
    "%matplotlib inline\n",
    "\n",
    "import matplotlib.pyplot as plt\n",
    "import numpy as np\n",
    "import pickle\n",
    "import time\n",
    "import torch\n",
    "from torch import nn\n",
    "import torch.nn.functional as F\n",
    "from torchsummary import summary\n",
    "from torchvision import transforms, datasets, models"
   ]
  },
  {
   "cell_type": "code",
   "execution_count": 36,
   "metadata": {},
   "outputs": [],
   "source": [
    "PATH = './data/'\n",
    "RANDOM_STATE = 29"
   ]
  },
  {
   "cell_type": "markdown",
   "metadata": {},
   "source": [
    "Напишем функцию для загрузки данных для исключения повторения кода:"
   ]
  },
  {
   "cell_type": "code",
   "execution_count": 37,
   "metadata": {},
   "outputs": [],
   "source": [
    "def load_data(transform_train=transforms.ToTensor(), transform_test=transforms.ToTensor(), \n",
    "              download=True, verbose=True):\n",
    "    \n",
    "    train_dataset = datasets.CIFAR100(root=PATH,\n",
    "                                      transform=transform_train,\n",
    "                                      download=download)\n",
    "\n",
    "    test_dataset = datasets.CIFAR100(root=PATH,\n",
    "                                     train=False,\n",
    "                                     transform=transform_test,\n",
    "                                     download=download)\n",
    "    \n",
    "    if verbose:\n",
    "        print(f'Размер тренировочного датасета:\\t{len(train_dataset)}')\n",
    "        print(f'Размер тестового датасета:\\t{len(test_dataset)}')\n",
    "    \n",
    "    torch.random.manual_seed(RANDOM_STATE)\n",
    "\n",
    "    train_loader = torch.utils.data.DataLoader(train_dataset,\n",
    "                                               batch_size=128,\n",
    "                                               shuffle=True)\n",
    "\n",
    "    test_loader = torch.utils.data.DataLoader(test_dataset,\n",
    "                                              batch_size=128,\n",
    "                                              shuffle=False)\n",
    "    \n",
    "    return train_loader, test_loader"
   ]
  },
  {
   "cell_type": "markdown",
   "metadata": {},
   "source": [
    "Напишем трансформер для аугментации. Вспомогательный трансформер нужен, т.к.  \n",
    "применение ToTensor() к тензору вызывает ошибку, когда мы используем ещё один  \n",
    "трансформер для подготовки данных для ResNet."
   ]
  },
  {
   "cell_type": "code",
   "execution_count": 38,
   "metadata": {},
   "outputs": [],
   "source": [
    "aug_transformers_ = transforms.Compose([\n",
    "    transforms.RandomHorizontalFlip(),\n",
    "    transforms.ColorJitter(brightness=0.2, contrast=0.2, saturation=0.2, hue=0.1),\n",
    "])\n",
    "\n",
    "aug_transformers = transforms.Compose([\n",
    "    aug_transformers_,\n",
    "    transforms.ToTensor()\n",
    "])"
   ]
  },
  {
   "cell_type": "markdown",
   "metadata": {},
   "source": [
    "Загрузим данные. Для нашей модели сразу будем применять аугментации:"
   ]
  },
  {
   "cell_type": "code",
   "execution_count": 39,
   "metadata": {},
   "outputs": [
    {
     "name": "stdout",
     "output_type": "stream",
     "text": [
      "Files already downloaded and verified\n",
      "Files already downloaded and verified\n",
      "Размер тренировочного датасета:\t50000\n",
      "Размер тестового датасета:\t10000\n"
     ]
    }
   ],
   "source": [
    "train_loader, test_loader = load_data(transform_train=aug_transformers)"
   ]
  },
  {
   "cell_type": "code",
   "execution_count": 40,
   "metadata": {},
   "outputs": [
    {
     "data": {
      "text/plain": [
       "'cpu'"
      ]
     },
     "execution_count": 40,
     "metadata": {},
     "output_type": "execute_result"
    }
   ],
   "source": [
    "device = 'cuda' if torch.cuda.is_available() else 'cpu'\n",
    "device"
   ]
  },
  {
   "cell_type": "code",
   "execution_count": 41,
   "metadata": {},
   "outputs": [
    {
     "data": {
      "text/plain": [
       "torch.Size([3, 32, 32])"
      ]
     },
     "execution_count": 41,
     "metadata": {},
     "output_type": "execute_result"
    }
   ],
   "source": [
    "image_size = iter(train_loader).__next__()[0][0].shape\n",
    "image_size"
   ]
  },
  {
   "cell_type": "markdown",
   "metadata": {},
   "source": [
    "Напишем нашу сеть, track_running_stats в батч-нормализации выключим,\n",
    "т.к. это даёт лучшую точность:"
   ]
  },
  {
   "cell_type": "code",
   "execution_count": 42,
   "metadata": {},
   "outputs": [],
   "source": [
    "class MyNet(nn.Module):\n",
    "    def __init__(self):\n",
    "        super().__init__()\n",
    "        torch.random.manual_seed(RANDOM_STATE)\n",
    "        \n",
    "        self.conv1 = nn.Conv2d(image_size[0], 32, 3, padding=1) \n",
    "        self.maxpool = nn.MaxPool2d(2) \n",
    "        self.bn1 = nn.BatchNorm2d(32, track_running_stats=False)\n",
    "        self.dp = nn.Dropout(0.25)\n",
    "        self.dp2d = nn.Dropout2d(0.25)\n",
    "    \n",
    "        self.conv2 = nn.Conv2d(32, 64, 3, padding=1) \n",
    "        self.bn2 = nn.BatchNorm2d(64, track_running_stats=False)\n",
    "        \n",
    "        self.conv3 = nn.Conv2d(64, 128, 3, padding=1) \n",
    "        self.bn3 = nn.BatchNorm2d(128, track_running_stats=False)\n",
    "    \n",
    "        self.flatten = nn.Flatten()\n",
    "        self.fc1 = nn.Linear(128*4*4, 512)\n",
    "        self.bn4 = nn.BatchNorm1d(512, track_running_stats=False)\n",
    "        \n",
    "        self.fc2 = nn.Linear(512, 100)\n",
    "        \n",
    "    def forward(self, x):\n",
    "        \n",
    "        # Свёрточные слои\n",
    "        x = self.conv1(x) # 3x32x32 -> 32x32x32\n",
    "        x = self.maxpool(x) # 32x32x32 -> 32x16x16\n",
    "        # x = self.dp2d(x)\n",
    "        x = self.bn1(x)\n",
    "        x = F.relu(x)\n",
    "        \n",
    "        x = self.conv2(x) # 32x16x16 -> 64x16x16\n",
    "        x = self.maxpool(x) # 64x16x16 -> 64x8x8\n",
    "        x = self.dp2d(x)\n",
    "        x = self.bn2(x)\n",
    "        x = F.relu(x)\n",
    "        \n",
    "        x = self.conv3(x) # 64x8x8 -> 128x8x8\n",
    "        x = self.maxpool(x) # 128x8x8 -> 128x4x4\n",
    "        # x = self.dp2d(x)\n",
    "        x = self.bn3(x)\n",
    "        x = F.relu(x)\n",
    "        \n",
    "        # Полносвязные слои\n",
    "        x = self.flatten(x) # 128x4x4 -> 128*4*4\n",
    "        x = self.fc1(x)\n",
    "        x = self.dp(x)\n",
    "        x = self.bn4(x)\n",
    "        x = F.relu(x)\n",
    "        \n",
    "        x = self.fc2(x)\n",
    "        return x\n",
    "    \n",
    "    def predict(self, x):\n",
    "        x = self.forward(x)\n",
    "        x = F.softmax(x, dim=1)\n",
    "        return x"
   ]
  },
  {
   "cell_type": "code",
   "execution_count": 43,
   "metadata": {},
   "outputs": [
    {
     "name": "stdout",
     "output_type": "stream",
     "text": [
      "----------------------------------------------------------------\n",
      "        Layer (type)               Output Shape         Param #\n",
      "================================================================\n",
      "            Conv2d-1           [-1, 32, 32, 32]             896\n",
      "         MaxPool2d-2           [-1, 32, 16, 16]               0\n",
      "       BatchNorm2d-3           [-1, 32, 16, 16]              64\n",
      "            Conv2d-4           [-1, 64, 16, 16]          18,496\n",
      "         MaxPool2d-5             [-1, 64, 8, 8]               0\n",
      "         Dropout2d-6             [-1, 64, 8, 8]               0\n",
      "       BatchNorm2d-7             [-1, 64, 8, 8]             128\n",
      "            Conv2d-8            [-1, 128, 8, 8]          73,856\n",
      "         MaxPool2d-9            [-1, 128, 4, 4]               0\n",
      "      BatchNorm2d-10            [-1, 128, 4, 4]             256\n",
      "          Flatten-11                 [-1, 2048]               0\n",
      "           Linear-12                  [-1, 512]       1,049,088\n",
      "          Dropout-13                  [-1, 512]               0\n",
      "      BatchNorm1d-14                  [-1, 512]           1,024\n",
      "           Linear-15                  [-1, 100]          51,300\n",
      "================================================================\n",
      "Total params: 1,195,108\n",
      "Trainable params: 1,195,108\n",
      "Non-trainable params: 0\n",
      "----------------------------------------------------------------\n",
      "Input size (MB): 0.01\n",
      "Forward/backward pass size (MB): 0.72\n",
      "Params size (MB): 4.56\n",
      "Estimated Total Size (MB): 5.29\n",
      "----------------------------------------------------------------\n"
     ]
    }
   ],
   "source": [
    "summary(MyNet().to(device), input_size=image_size)"
   ]
  },
  {
   "cell_type": "markdown",
   "metadata": {},
   "source": [
    "Общая функция для обучения моделей:"
   ]
  },
  {
   "cell_type": "code",
   "execution_count": 44,
   "metadata": {},
   "outputs": [],
   "source": [
    "def train_nn(net, train_loader, test_loader, lr=1e-3, epochs=5, verbose=True, parameters=None):\n",
    "\n",
    "    torch.backends.cudnn.deterministic = True\n",
    "    criterion = nn.CrossEntropyLoss()\n",
    "    if parameters is None:\n",
    "        parameters = net.parameters()\n",
    "    optimizer = torch.optim.Adam(parameters, lr=lr)\n",
    "    \n",
    "    metrics_train_global = np.array([])\n",
    "    metrics_test_global = np.array([])\n",
    "\n",
    "    for epoch in range(epochs):\n",
    "        start_time = time.time()\n",
    "        metrics_train = np.array([])\n",
    "        metrics_test = np.array([])\n",
    "        losses_train = np.array([])\n",
    "        losses_test = np.array([])\n",
    "\n",
    "        for i, data in enumerate(train_loader):\n",
    "            net.train()\n",
    "            inputs, labels = data[0].to(device), data[1].to(device)\n",
    "\n",
    "            optimizer.zero_grad()\n",
    "\n",
    "            outputs = net(inputs)\n",
    "            loss = criterion(outputs, labels)\n",
    "            loss.backward()\n",
    "            optimizer.step()\n",
    "            \n",
    "            losses_train = np.append(losses_train, loss.item())\n",
    "            net.eval()\n",
    "            metrics_train = np.append(metrics_train, (labels == outputs.argmax(axis=1)).sum().cpu() / len(labels))\n",
    "        \n",
    "        with torch.no_grad():\n",
    "            for i, data in enumerate(test_loader):\n",
    "                inputs, labels = data[0].to(device), data[1].to(device)\n",
    "                outputs = net(inputs)\n",
    "                loss = criterion(outputs, labels)\n",
    "                losses_test = np.append(losses_test, loss.item())\n",
    "                metrics_test = np.append(metrics_test, (labels == outputs.argmax(axis=1)).sum().cpu() / len(labels))    \n",
    "        \n",
    "        if verbose:\n",
    "            print(f'Epoch [{epoch + 1}/{epochs}]. ' \\\n",
    "                  f'Train loss: {losses_train.mean():.4f}. '\\\n",
    "                  f'Test loss: {losses_test.mean():.4f}. '\\\n",
    "                  f'Train accuracy: {metrics_train.mean():.4f}. '\\\n",
    "                  f'Test accuracy: {metrics_test.mean():.4f}. '\n",
    "                  f'Time: {int(time.time() - start_time)} s')\n",
    "        \n",
    "        metrics_train_global = np.append(metrics_train_global, metrics_train.mean())\n",
    "        metrics_test_global = np.append(metrics_test_global, metrics_test.mean())\n",
    "    print('Training is finished!')\n",
    "    return metrics_train_global, metrics_test_global"
   ]
  },
  {
   "cell_type": "markdown",
   "metadata": {},
   "source": [
    "Обучаем модель:"
   ]
  },
  {
   "cell_type": "code",
   "execution_count": 45,
   "metadata": {},
   "outputs": [
    {
     "name": "stdout",
     "output_type": "stream",
     "text": [
      "Epoch [1/20]. Train loss: 3.4693. Test loss: 2.6964. Train accuracy: 0.1840. Test accuracy: 0.3223. Time: 112 s\n",
      "Epoch [2/20]. Train loss: 2.6761. Test loss: 2.2915. Train accuracy: 0.3262. Test accuracy: 0.4057. Time: 98 s\n",
      "Epoch [3/20]. Train loss: 2.3517. Test loss: 2.1625. Train accuracy: 0.3928. Test accuracy: 0.4370. Time: 103 s\n",
      "Epoch [4/20]. Train loss: 2.1523. Test loss: 2.0237. Train accuracy: 0.4375. Test accuracy: 0.4702. Time: 96 s\n",
      "Epoch [5/20]. Train loss: 2.0053. Test loss: 1.9504. Train accuracy: 0.4676. Test accuracy: 0.4904. Time: 95 s\n",
      "Epoch [6/20]. Train loss: 1.8790. Test loss: 1.9093. Train accuracy: 0.4959. Test accuracy: 0.5003. Time: 95 s\n",
      "Epoch [7/20]. Train loss: 1.7865. Test loss: 1.8709. Train accuracy: 0.5189. Test accuracy: 0.5111. Time: 94 s\n",
      "Epoch [8/20]. Train loss: 1.7025. Test loss: 1.8423. Train accuracy: 0.5373. Test accuracy: 0.5208. Time: 94 s\n",
      "Epoch [9/20]. Train loss: 1.6213. Test loss: 1.8306. Train accuracy: 0.5574. Test accuracy: 0.5265. Time: 94 s\n",
      "Epoch [10/20]. Train loss: 1.5644. Test loss: 1.8379. Train accuracy: 0.5700. Test accuracy: 0.5300. Time: 94 s\n",
      "Epoch [11/20]. Train loss: 1.4960. Test loss: 1.8424. Train accuracy: 0.5855. Test accuracy: 0.5361. Time: 94 s\n",
      "Epoch [12/20]. Train loss: 1.4430. Test loss: 1.8327. Train accuracy: 0.6009. Test accuracy: 0.5364. Time: 94 s\n",
      "Epoch [13/20]. Train loss: 1.3857. Test loss: 1.8577. Train accuracy: 0.6127. Test accuracy: 0.5394. Time: 94 s\n",
      "Epoch [14/20]. Train loss: 1.3456. Test loss: 1.8597. Train accuracy: 0.6235. Test accuracy: 0.5404. Time: 94 s\n",
      "Epoch [15/20]. Train loss: 1.2943. Test loss: 1.8595. Train accuracy: 0.6321. Test accuracy: 0.5441. Time: 94 s\n",
      "Epoch [16/20]. Train loss: 1.2504. Test loss: 1.8668. Train accuracy: 0.6458. Test accuracy: 0.5464. Time: 94 s\n",
      "Epoch [17/20]. Train loss: 1.2195. Test loss: 1.8947. Train accuracy: 0.6509. Test accuracy: 0.5438. Time: 94 s\n",
      "Epoch [18/20]. Train loss: 1.1750. Test loss: 1.8886. Train accuracy: 0.6610. Test accuracy: 0.5515. Time: 93 s\n",
      "Epoch [19/20]. Train loss: 1.1372. Test loss: 1.9078. Train accuracy: 0.6710. Test accuracy: 0.5473. Time: 93 s\n",
      "Epoch [20/20]. Train loss: 1.1179. Test loss: 1.9098. Train accuracy: 0.6771. Test accuracy: 0.5484. Time: 93 s\n",
      "Training is finished!\n"
     ]
    }
   ],
   "source": [
    "mynet = MyNet().to(device)\n",
    "mynet_train, mynet_test = train_nn(mynet, train_loader, test_loader, epochs=20)"
   ]
  },
  {
   "cell_type": "markdown",
   "metadata": {},
   "source": [
    "### ResNet50  \n",
    "Напишем трансформеры для этой модели:\n",
    "\n"
   ]
  },
  {
   "cell_type": "code",
   "execution_count": 46,
   "metadata": {},
   "outputs": [],
   "source": [
    "resnet_transformer = transforms.Compose([\n",
    "    transforms.Resize((224, 224)),\n",
    "    transforms.ToTensor()\n",
    "])"
   ]
  },
  {
   "cell_type": "code",
   "execution_count": 47,
   "metadata": {},
   "outputs": [],
   "source": [
    "resnet_aug_transformer = transforms.Compose([\n",
    "    aug_transformers_,\n",
    "    resnet_transformer\n",
    "])"
   ]
  },
  {
   "cell_type": "markdown",
   "metadata": {},
   "source": [
    "Обернём все этапы в функцию, чтобы потом не дублировать код при  \n",
    "обучении ResNet с аугментацией:"
   ]
  },
  {
   "cell_type": "code",
   "execution_count": 48,
   "metadata": {},
   "outputs": [],
   "source": [
    "def train_resnet(transformer_train, epochs=5, verbose=1):\n",
    "    resnet50 = models.resnet50(weights=models.ResNet50_Weights.DEFAULT)\n",
    "    \n",
    "    for param in resnet50.parameters():\n",
    "        param.requires_grad = False\n",
    "        \n",
    "    resnet_train_loader, resnet_test_loader = load_data(transform_train=transformer_train, \n",
    "                                                        transform_test=resnet_transformer,\n",
    "                                                        download=False, verbose=False)\n",
    "    \n",
    "    torch.random.manual_seed(RANDOM_STATE)\n",
    "    resnet50.fc = nn.Linear(2048, 100)\n",
    "\n",
    "    params_to_update = []\n",
    "    for param in resnet50.parameters():\n",
    "        if param.requires_grad == True:\n",
    "            params_to_update.append(param)\n",
    "    \n",
    "    resnet50 = resnet50.to(device)\n",
    "    resnet_train, resnet_test = train_nn(resnet50, resnet_train_loader, resnet_test_loader, \n",
    "                                         epochs=epochs, verbose=verbose, parameters=params_to_update)\n",
    "    return resnet50, resnet_train, resnet_test"
   ]
  },
  {
   "cell_type": "markdown",
   "metadata": {},
   "source": [
    "Обучим ResNet без аугментации:"
   ]
  },
  {
   "cell_type": "code",
   "execution_count": 50,
   "metadata": {},
   "outputs": [
    {
     "name": "stdout",
     "output_type": "stream",
     "text": [
      "Epoch [1/3]. Train loss: 2.5938. Test loss: 1.9313. Train accuracy: 0.4166. Test accuracy: 0.5254. Time: 6372 s\n",
      "Epoch [2/3]. Train loss: 1.6756. Test loss: 1.6810. Train accuracy: 0.5764. Test accuracy: 0.5638. Time: 7208 s\n",
      "Epoch [3/3]. Train loss: 1.4175. Test loss: 1.5882. Train accuracy: 0.6312. Test accuracy: 0.5783. Time: 8428 s\n",
      "Training is finished!\n"
     ]
    }
   ],
   "source": [
    "resnet50, resnet_train, resnet_test = train_resnet(resnet_transformer, epochs=3)"
   ]
  },
  {
   "cell_type": "markdown",
   "metadata": {},
   "source": [
    "Обучим ResNet с аугментацией:"
   ]
  },
  {
   "cell_type": "code",
   "execution_count": 51,
   "metadata": {},
   "outputs": [
    {
     "name": "stdout",
     "output_type": "stream",
     "text": [
      "Epoch [1/3]. Train loss: 2.8360. Test loss: 2.0525. Train accuracy: 0.3620. Test accuracy: 0.5060. Time: 6048 s\n",
      "Epoch [2/3]. Train loss: 2.0108. Test loss: 1.7701. Train accuracy: 0.4948. Test accuracy: 0.5489. Time: 6195 s\n",
      "Epoch [3/3]. Train loss: 1.7872. Test loss: 1.6510. Train accuracy: 0.5374. Test accuracy: 0.5720. Time: 6221 s\n",
      "Training is finished!\n"
     ]
    }
   ],
   "source": [
    "resnet50_aug, resnet_aug_train, resnet_aug_test = train_resnet(resnet_aug_transformer, epochs=3)"
   ]
  },
  {
   "cell_type": "markdown",
   "metadata": {},
   "source": [
    "Построим графики метрики:"
   ]
  },
  {
   "cell_type": "code",
   "execution_count": 52,
   "metadata": {},
   "outputs": [
    {
     "data": {
      "image/png": "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",
      "text/plain": [
       "<Figure size 1600x500 with 3 Axes>"
      ]
     },
     "metadata": {},
     "output_type": "display_data"
    }
   ],
   "source": [
    "plt.figure(figsize=(16, 5))\n",
    "plt.rcParams.update({'font.size': 14})\n",
    "\n",
    "plt.subplot(1, 3, 1)\n",
    "plt.plot(range(len(mynet_train)), mynet_train, label='Train')\n",
    "plt.plot(range(len(mynet_test)), mynet_test, label='Test')\n",
    "plt.title('My model')\n",
    "plt.ylabel('Accuracy')\n",
    "plt.xlabel('Epochs')\n",
    "plt.ylim([0, 1])\n",
    "plt.grid()\n",
    "plt.legend()\n",
    "\n",
    "plt.subplot(1, 3, 2)\n",
    "plt.plot(range(len(resnet_train)), resnet_train, label='Train')\n",
    "plt.plot(range(len(resnet_test)), resnet_test, label='Test')\n",
    "plt.title('Resnet50')\n",
    "plt.xlabel('Epochs')\n",
    "plt.ylim([0, 1])\n",
    "plt.grid()\n",
    "plt.legend()\n",
    "\n",
    "plt.subplot(1, 3, 3)\n",
    "plt.plot(range(len(resnet_aug_train)), resnet_aug_train, label='Train')\n",
    "plt.plot(range(len(resnet_aug_test)), resnet_aug_test, label='Test')\n",
    "plt.title('Resnet50 w/ augmentations')\n",
    "plt.xlabel('Epochs')\n",
    "plt.ylim([0, 1])\n",
    "plt.grid()\n",
    "plt.legend()\n",
    "\n",
    "plt.show()"
   ]
  },
  {
   "cell_type": "markdown",
   "metadata": {},
   
   ]
  }
 ],
 "metadata": {
  "kernelspec": {
   "display_name": "Python 3",
   "language": "python",
   "name": "python3"
  },
  "language_info": {
   "codemirror_mode": {
    "name": "ipython",
    "version": 3
   },
   "file_extension": ".py",
   "mimetype": "text/x-python",
   "name": "python",
   "nbconvert_exporter": "python",
   "pygments_lexer": "ipython3",
   "version": "3.10.6"
  },
  "orig_nbformat": 4
 },
 "nbformat": 4,
 "nbformat_minor": 2
}
